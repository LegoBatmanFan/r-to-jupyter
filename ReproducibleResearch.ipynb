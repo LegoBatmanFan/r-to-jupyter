{
  "nbformat": 4,
  "nbformat_minor": 0,
  "metadata": {
    "colab": {
      "name": "20220123_ReproducibleResearch.ipynb",
      "provenance": [],
      "collapsed_sections": []
    },
    "kernelspec": {
      "name": "python3",
      "display_name": "Python 3"
    },
    "language_info": {
      "name": "python"
    }
  },
  "cells": [
    {
      "cell_type": "markdown",
      "source": [
        "#**Reproducible Research (Jupyter Notebook Version)**\n",
        "by Lena Horsley\n",
        "\n",
        "This is the Juypter Notebook version of my final project for the Coursera class Reproducible Research. [Reproducible Research](https://www.coursera.org/learn/reproducible-research?specialization=jhu-data-science) is the fifth course in the [Johns Hopkins Data Science specialization](https://www.coursera.org/specializations/jhu-data-science).\n",
        "\n",
        "My final project can be found [here](https://github.com/LegoBatmanFan/r_programming/tree/master/005_reproducible-research)."
      ],
      "metadata": {
        "id": "mHIZqi6NMTxy"
      }
    },
    {
      "cell_type": "code",
      "execution_count": 1,
      "metadata": {
        "id": "HrdVBWsfHPnp"
      },
      "outputs": [],
      "source": [
        "import pandas as pd\n",
        "import shutil\n",
        "import os\n",
        "import datetime\n",
        "import numpy as np\n",
        "import matplotlib.pyplot as plt\n",
        "#import plotly.express as px\n",
        "from plotnine import *\n",
        "from matplotlib import dates"
      ]
    },
    {
      "cell_type": "code",
      "source": [
        "!wget http://d396qusza40orc.cloudfront.net/repdata%2Fdata%2Factivity.zip"
      ],
      "metadata": {
        "colab": {
          "base_uri": "https://localhost:8080/"
        },
        "id": "sRwX_8p4JjG7",
        "outputId": "db61f81a-1ffd-45e1-98fd-5ed5632a8ad9"
      },
      "execution_count": 2,
      "outputs": [
        {
          "output_type": "stream",
          "name": "stdout",
          "text": [
            "--2022-04-04 01:34:39--  http://d396qusza40orc.cloudfront.net/repdata%2Fdata%2Factivity.zip\n",
            "Resolving d396qusza40orc.cloudfront.net (d396qusza40orc.cloudfront.net)... 13.225.141.216, 13.225.141.186, 13.225.141.160, ...\n",
            "Connecting to d396qusza40orc.cloudfront.net (d396qusza40orc.cloudfront.net)|13.225.141.216|:80... connected.\n",
            "HTTP request sent, awaiting response... 200 OK\n",
            "Length: 53559 (52K) [application/zip]\n",
            "Saving to: ‘repdata%2Fdata%2Factivity.zip’\n",
            "\n",
            "repdata%2Fdata%2Fac 100%[===================>]  52.30K  --.-KB/s    in 0.1s    \n",
            "\n",
            "2022-04-04 01:34:39 (416 KB/s) - ‘repdata%2Fdata%2Factivity.zip’ saved [53559/53559]\n",
            "\n"
          ]
        }
      ]
    },
    {
      "cell_type": "code",
      "source": [
        "!unzip 'repdata%2Fdata%2Factivity.zip'"
      ],
      "metadata": {
        "colab": {
          "base_uri": "https://localhost:8080/"
        },
        "id": "smbFJgMNJskG",
        "outputId": "c6b9d4ba-dbcf-4439-d310-4e73ebfab188"
      },
      "execution_count": 3,
      "outputs": [
        {
          "output_type": "stream",
          "name": "stdout",
          "text": [
            "Archive:  repdata%2Fdata%2Factivity.zip\n",
            "  inflating: activity.csv            \n"
          ]
        }
      ]
    },
    {
      "cell_type": "code",
      "source": [
        "raw_total_data = pd.read_csv('activity.csv')\n",
        "raw_total_data.head"
      ],
      "metadata": {
        "colab": {
          "base_uri": "https://localhost:8080/"
        },
        "id": "NJtB3QUzKvZp",
        "outputId": "b1fd0b80-8afb-427c-a353-8c3d425073d4"
      },
      "execution_count": 4,
      "outputs": [
        {
          "output_type": "execute_result",
          "data": {
            "text/plain": [
              "<bound method NDFrame.head of        steps        date  interval\n",
              "0        NaN  2012-10-01         0\n",
              "1        NaN  2012-10-01         5\n",
              "2        NaN  2012-10-01        10\n",
              "3        NaN  2012-10-01        15\n",
              "4        NaN  2012-10-01        20\n",
              "...      ...         ...       ...\n",
              "17563    NaN  2012-11-30      2335\n",
              "17564    NaN  2012-11-30      2340\n",
              "17565    NaN  2012-11-30      2345\n",
              "17566    NaN  2012-11-30      2350\n",
              "17567    NaN  2012-11-30      2355\n",
              "\n",
              "[17568 rows x 3 columns]>"
            ]
          },
          "metadata": {},
          "execution_count": 4
        }
      ]
    },
    {
      "cell_type": "code",
      "source": [
        "raw_total_data1 = raw_total_data.dropna(axis=0, subset=['steps'])\n",
        "raw_total_data1.head"
      ],
      "metadata": {
        "colab": {
          "base_uri": "https://localhost:8080/"
        },
        "id": "E9YTRvKrLyBE",
        "outputId": "bc894172-879a-4eb2-96e1-cdc829d11ca5"
      },
      "execution_count": 5,
      "outputs": [
        {
          "output_type": "execute_result",
          "data": {
            "text/plain": [
              "<bound method NDFrame.head of        steps        date  interval\n",
              "288      0.0  2012-10-02         0\n",
              "289      0.0  2012-10-02         5\n",
              "290      0.0  2012-10-02        10\n",
              "291      0.0  2012-10-02        15\n",
              "292      0.0  2012-10-02        20\n",
              "...      ...         ...       ...\n",
              "17275    0.0  2012-11-29      2335\n",
              "17276    0.0  2012-11-29      2340\n",
              "17277    0.0  2012-11-29      2345\n",
              "17278    0.0  2012-11-29      2350\n",
              "17279    0.0  2012-11-29      2355\n",
              "\n",
              "[15264 rows x 3 columns]>"
            ]
          },
          "metadata": {},
          "execution_count": 5
        }
      ]
    },
    {
      "cell_type": "code",
      "source": [
        "raw_total_data1[\"steps1\"] = raw_total_data1[\"steps\"].astype('int')\n",
        "raw_total_data1[\"interval1\"] = raw_total_data1[\"interval\"].astype('int')\n",
        "raw_total_data1[\"date1\"] = raw_total_data1[\"date\"].astype('datetime64[ns]')\n",
        "raw_total_data1.head"
      ],
      "metadata": {
        "colab": {
          "base_uri": "https://localhost:8080/"
        },
        "id": "K98bmLaQMY8b",
        "outputId": "85916ea0-61d7-4bf6-88df-30811cb797cf"
      },
      "execution_count": 6,
      "outputs": [
        {
          "output_type": "stream",
          "name": "stderr",
          "text": [
            "/usr/local/lib/python3.7/dist-packages/ipykernel_launcher.py:1: SettingWithCopyWarning: \n",
            "A value is trying to be set on a copy of a slice from a DataFrame.\n",
            "Try using .loc[row_indexer,col_indexer] = value instead\n",
            "\n",
            "See the caveats in the documentation: https://pandas.pydata.org/pandas-docs/stable/user_guide/indexing.html#returning-a-view-versus-a-copy\n",
            "  \"\"\"Entry point for launching an IPython kernel.\n",
            "/usr/local/lib/python3.7/dist-packages/ipykernel_launcher.py:2: SettingWithCopyWarning: \n",
            "A value is trying to be set on a copy of a slice from a DataFrame.\n",
            "Try using .loc[row_indexer,col_indexer] = value instead\n",
            "\n",
            "See the caveats in the documentation: https://pandas.pydata.org/pandas-docs/stable/user_guide/indexing.html#returning-a-view-versus-a-copy\n",
            "  \n",
            "/usr/local/lib/python3.7/dist-packages/ipykernel_launcher.py:3: SettingWithCopyWarning: \n",
            "A value is trying to be set on a copy of a slice from a DataFrame.\n",
            "Try using .loc[row_indexer,col_indexer] = value instead\n",
            "\n",
            "See the caveats in the documentation: https://pandas.pydata.org/pandas-docs/stable/user_guide/indexing.html#returning-a-view-versus-a-copy\n",
            "  This is separate from the ipykernel package so we can avoid doing imports until\n"
          ]
        },
        {
          "output_type": "execute_result",
          "data": {
            "text/plain": [
              "<bound method NDFrame.head of        steps        date  interval  steps1  interval1      date1\n",
              "288      0.0  2012-10-02         0       0          0 2012-10-02\n",
              "289      0.0  2012-10-02         5       0          5 2012-10-02\n",
              "290      0.0  2012-10-02        10       0         10 2012-10-02\n",
              "291      0.0  2012-10-02        15       0         15 2012-10-02\n",
              "292      0.0  2012-10-02        20       0         20 2012-10-02\n",
              "...      ...         ...       ...     ...        ...        ...\n",
              "17275    0.0  2012-11-29      2335       0       2335 2012-11-29\n",
              "17276    0.0  2012-11-29      2340       0       2340 2012-11-29\n",
              "17277    0.0  2012-11-29      2345       0       2345 2012-11-29\n",
              "17278    0.0  2012-11-29      2350       0       2350 2012-11-29\n",
              "17279    0.0  2012-11-29      2355       0       2355 2012-11-29\n",
              "\n",
              "[15264 rows x 6 columns]>"
            ]
          },
          "metadata": {},
          "execution_count": 6
        }
      ]
    },
    {
      "cell_type": "code",
      "source": [
        "#raw_total_data2 = raw_total_data1.filter(regex=\"date1|steps1\")\n",
        "raw_total_data2 = raw_total_data1.groupby(['date1'],as_index=False).agg(lambda x : x.sum() if x.dtype=='int' else x.head(1))\n",
        "raw_total_data2\n",
        "#raw_total_data1 = raw_total_data1.groupby(['date1'],as_index=False).agg(lambda x : x.sum() if x.dtype=='int' else x.head(1))\n",
        "#raw_total_data1\n",
        "plt.bar(raw_total_data2.date1, raw_total_data2.steps1)\n",
        "plt.gca().xaxis.set_major_locator(dates.MonthLocator())\n",
        "plt.gca().xaxis.set_major_formatter(dates.DateFormatter(\"%b\\n%Y\"))\n",
        "plt.show()"
      ],
      "metadata": {
        "colab": {
          "base_uri": "https://localhost:8080/",
          "height": 277
        },
        "id": "oeY_C52CMKUM",
        "outputId": "7f9246c7-a9ff-4eda-c8b5-fbbbdf1a183b"
      },
      "execution_count": 7,
      "outputs": [
        {
          "output_type": "display_data",
          "data": {
            "text/plain": [
              "<Figure size 432x288 with 1 Axes>"
            ],
            "image/png": "[encoded data removed]"
          },
          "metadata": {
            "needs_background": "light"
          }
        }
      ]
    },
    {
      "cell_type": "code",
      "source": [
        "raw_total_data2[\"steps1\"].mean()"
      ],
      "metadata": {
        "colab": {
          "base_uri": "https://localhost:8080/"
        },
        "id": "o-JCecB_zBSq",
        "outputId": "d4b98111-43f0-48cb-a87e-e7249e2bc207"
      },
      "execution_count": 8,
      "outputs": [
        {
          "output_type": "execute_result",
          "data": {
            "text/plain": [
              "10766.188679245282"
            ]
          },
          "metadata": {},
          "execution_count": 8
        }
      ]
    },
    {
      "cell_type": "code",
      "source": [
        "raw_total_data4 = raw_total_data1.filter(regex=\"interval1|steps1\")\n",
        "raw_total_data5 = raw_total_data4.groupby(['interval1'],as_index=False).agg(lambda x : x.mean() if x.dtype=='int' else x.head(1))\n",
        "raw_total_data5.head"
      ],
      "metadata": {
        "colab": {
          "base_uri": "https://localhost:8080/"
        },
        "id": "dmWhYET61hYM",
        "outputId": "841371cf-c1a9-4848-f164-d585c88120d6"
      },
      "execution_count": 9,
      "outputs": [
        {
          "output_type": "execute_result",
          "data": {
            "text/plain": [
              "<bound method NDFrame.head of      interval1    steps1\n",
              "0            0  1.716981\n",
              "1            5  0.339623\n",
              "2           10  0.132075\n",
              "3           15  0.150943\n",
              "4           20  0.075472\n",
              "..         ...       ...\n",
              "283       2335  4.698113\n",
              "284       2340  3.301887\n",
              "285       2345  0.641509\n",
              "286       2350  0.226415\n",
              "287       2355  1.075472\n",
              "\n",
              "[288 rows x 2 columns]>"
            ]
          },
          "metadata": {},
          "execution_count": 9
        }
      ]
    },
    {
      "cell_type": "code",
      "source": [
        "raw_total_data5.plot(x=\"interval1\", y=\"steps1\", kind=\"line\")"
      ],
      "metadata": {
        "colab": {
          "base_uri": "https://localhost:8080/",
          "height": 297
        },
        "id": "nzOyzkJh1y2d",
        "outputId": "98e7fe79-398d-49b0-bd45-52e47242bb43"
      },
      "execution_count": 10,
      "outputs": [
        {
          "output_type": "execute_result",
          "data": {
            "text/plain": [
              "<matplotlib.axes._subplots.AxesSubplot at 0x7f49acdf0a10>"
            ]
          },
          "metadata": {},
          "execution_count": 10
        },
        {
          "output_type": "display_data",
          "data": {
            "text/plain": [
              "<Figure size 432x288 with 1 Axes>"
            ],
            "image/png": "[encoded data removed]"
          },
          "metadata": {
            "needs_background": "light"
          }
        }
      ]
    },
    {
      "cell_type": "code",
      "source": [
        "raw_total_data5[raw_total_data5['steps1']==raw_total_data5['steps1'].max()]"
      ],
      "metadata": {
        "colab": {
          "base_uri": "https://localhost:8080/",
          "height": 81
        },
        "id": "XxyS2MLv2DV9",
        "outputId": "aee3da19-68e3-437f-b8b1-72694675e5ad"
      },
      "execution_count": 11,
      "outputs": [
        {
          "output_type": "execute_result",
          "data": {
            "text/plain": [
              "     interval1      steps1\n",
              "103        835  206.169811"
            ],
            "text/html": [
              "\n",
              "  <div id=\"df-2abb2baa-31d2-4758-afba-0fedbb5b1a70\">\n",
              "    <div class=\"colab-df-container\">\n",
              "      <div>\n",
              "<style scoped>\n",
              "    .dataframe tbody tr th:only-of-type {\n",
              "        vertical-align: middle;\n",
              "    }\n",
              "\n",
              "    .dataframe tbody tr th {\n",
              "        vertical-align: top;\n",
              "    }\n",
              "\n",
              "    .dataframe thead th {\n",
              "        text-align: right;\n",
              "    }\n",
              "</style>\n",
              "<table border=\"1\" class=\"dataframe\">\n",
              "  <thead>\n",
              "    <tr style=\"text-align: right;\">\n",
              "      <th></th>\n",
              "      <th>interval1</th>\n",
              "      <th>steps1</th>\n",
              "    </tr>\n",
              "  </thead>\n",
              "  <tbody>\n",
              "    <tr>\n",
              "      <th>103</th>\n",
              "      <td>835</td>\n",
              "      <td>206.169811</td>\n",
              "    </tr>\n",
              "  </tbody>\n",
              "</table>\n",
              "</div>\n",
              "      <button class=\"colab-df-convert\" onclick=\"convertToInteractive('df-2abb2baa-31d2-4758-afba-0fedbb5b1a70')\"\n",
              "              title=\"Convert this dataframe to an interactive table.\"\n",
              "              style=\"display:none;\">\n",
              "        \n",
              "  <svg xmlns=\"http://www.w3.org/2000/svg\" height=\"24px\"viewBox=\"0 0 24 24\"\n",
              "       width=\"24px\">\n",
              "    <path d=\"M0 0h24v24H0V0z\" fill=\"none\"/>\n",
              "    <path d=\"M18.56 5.44l.94 2.06.94-2.06 2.06-.94-2.06-.94-.94-2.06-.94 2.06-2.06.94zm-11 1L8.5 8.5l.94-2.06 2.06-.94-2.06-.94L8.5 2.5l-.94 2.06-2.06.94zm10 10l.94 2.06.94-2.06 2.06-.94-2.06-.94-.94-2.06-.94 2.06-2.06.94z\"/><path d=\"M17.41 7.96l-1.37-1.37c-.4-.4-.92-.59-1.43-.59-.52 0-1.04.2-1.43.59L10.3 9.45l-7.72 7.72c-.78.78-.78 2.05 0 2.83L4 21.41c.39.39.9.59 1.41.59.51 0 1.02-.2 1.41-.59l7.78-7.78 2.81-2.81c.8-.78.8-2.07 0-2.86zM5.41 20L4 18.59l7.72-7.72 1.47 1.35L5.41 20z\"/>\n",
              "  </svg>\n",
              "      </button>\n",
              "      \n",
              "  <style>\n",
              "    .colab-df-container {\n",
              "      display:flex;\n",
              "      flex-wrap:wrap;\n",
              "      gap: 12px;\n",
              "    }\n",
              "\n",
              "    .colab-df-convert {\n",
              "      background-color: #E8F0FE;\n",
              "      border: none;\n",
              "      border-radius: 50%;\n",
              "      cursor: pointer;\n",
              "      display: none;\n",
              "      fill: #1967D2;\n",
              "      height: 32px;\n",
              "      padding: 0 0 0 0;\n",
              "      width: 32px;\n",
              "    }\n",
              "\n",
              "    .colab-df-convert:hover {\n",
              "      background-color: #E2EBFA;\n",
              "      box-shadow: 0px 1px 2px rgba(60, 64, 67, 0.3), 0px 1px 3px 1px rgba(60, 64, 67, 0.15);\n",
              "      fill: #174EA6;\n",
              "    }\n",
              "\n",
              "    [theme=dark] .colab-df-convert {\n",
              "      background-color: #3B4455;\n",
              "      fill: #D2E3FC;\n",
              "    }\n",
              "\n",
              "    [theme=dark] .colab-df-convert:hover {\n",
              "      background-color: #434B5C;\n",
              "      box-shadow: 0px 1px 3px 1px rgba(0, 0, 0, 0.15);\n",
              "      filter: drop-shadow(0px 1px 2px rgba(0, 0, 0, 0.3));\n",
              "      fill: #FFFFFF;\n",
              "    }\n",
              "  </style>\n",
              "\n",
              "      <script>\n",
              "        const buttonEl =\n",
              "          document.querySelector('#df-2abb2baa-31d2-4758-afba-0fedbb5b1a70 button.colab-df-convert');\n",
              "        buttonEl.style.display =\n",
              "          google.colab.kernel.accessAllowed ? 'block' : 'none';\n",
              "\n",
              "        async function convertToInteractive(key) {\n",
              "          const element = document.querySelector('#df-2abb2baa-31d2-4758-afba-0fedbb5b1a70');\n",
              "          const dataTable =\n",
              "            await google.colab.kernel.invokeFunction('convertToInteractive',\n",
              "                                                     [key], {});\n",
              "          if (!dataTable) return;\n",
              "\n",
              "          const docLinkHtml = 'Like what you see? Visit the ' +\n",
              "            '<a target=\"_blank\" href=https://colab.research.google.com/notebooks/data_table.ipynb>data table notebook</a>'\n",
              "            + ' to learn more about interactive tables.';\n",
              "          element.innerHTML = '';\n",
              "          dataTable['output_type'] = 'display_data';\n",
              "          await google.colab.output.renderOutput(dataTable, element);\n",
              "          const docLink = document.createElement('div');\n",
              "          docLink.innerHTML = docLinkHtml;\n",
              "          element.appendChild(docLink);\n",
              "        }\n",
              "      </script>\n",
              "    </div>\n",
              "  </div>\n",
              "  "
            ]
          },
          "metadata": {},
          "execution_count": 11
        }
      ]
    },
    {
      "cell_type": "code",
      "source": [
        "raw_total_data.isna().values.sum()"
      ],
      "metadata": {
        "colab": {
          "base_uri": "https://localhost:8080/"
        },
        "id": "0EHG-kpL2GSB",
        "outputId": "8dd680f1-8d1a-49f9-a529-95974a4d5bfe"
      },
      "execution_count": 12,
      "outputs": [
        {
          "output_type": "execute_result",
          "data": {
            "text/plain": [
              "2304"
            ]
          },
          "metadata": {},
          "execution_count": 12
        }
      ]
    },
    {
      "cell_type": "markdown",
      "source": [
        "Devise a strategy for filling in all of the missing values in the dataset. The strategy does not need to be sophisticated. For example, you could use the mean/median for that day, or the mean for that 5-minute interval, etc. Create a new dataset that is equal to the original dataset but with the missing data filled in.  \n",
        "<br>\n",
        "Method 1: the simplest thing to do - change the NA values to 0\n"
      ],
      "metadata": {
        "id": "kOx7RjFf1yTu"
      }
    },
    {
      "cell_type": "code",
      "source": [
        "raw_total_data.head"
      ],
      "metadata": {
        "colab": {
          "base_uri": "https://localhost:8080/"
        },
        "id": "xcMY7spHWSGw",
        "outputId": "6fd61d4b-7e41-4a71-b6c4-e9e05b6744a2"
      },
      "execution_count": 13,
      "outputs": [
        {
          "output_type": "execute_result",
          "data": {
            "text/plain": [
              "<bound method NDFrame.head of        steps        date  interval\n",
              "0        NaN  2012-10-01         0\n",
              "1        NaN  2012-10-01         5\n",
              "2        NaN  2012-10-01        10\n",
              "3        NaN  2012-10-01        15\n",
              "4        NaN  2012-10-01        20\n",
              "...      ...         ...       ...\n",
              "17563    NaN  2012-11-30      2335\n",
              "17564    NaN  2012-11-30      2340\n",
              "17565    NaN  2012-11-30      2345\n",
              "17566    NaN  2012-11-30      2350\n",
              "17567    NaN  2012-11-30      2355\n",
              "\n",
              "[17568 rows x 3 columns]>"
            ]
          },
          "metadata": {},
          "execution_count": 13
        }
      ]
    },
    {
      "cell_type": "code",
      "source": [
        "zeroesInMyData = raw_total_data.copy()\n",
        "zeroesInMyData = zeroesInMyData.fillna(0)\n",
        "zeroesInMyData[\"steps1\"] = zeroesInMyData[\"steps\"].astype('int')\n",
        "zeroesInMyData[\"interval1\"] = zeroesInMyData[\"interval\"].astype('int')\n",
        "zeroesInMyData[\"date1\"] = zeroesInMyData[\"date\"].astype('datetime64[ns]')\n",
        "zeroesInMyData.head\n",
        "#zeroesInMyData1 = zeroesInMyData.filter(regex=\"date|steps\")\n",
        "#zeroesInMyData1[\"steps1\"] = zeroesInMyData1[\"steps\"].astype('int')\n",
        "#zeroesInMyData2 = zeroesInMyData1.groupby(['date'],as_index=False).agg(lambda x : x.sum() if x.dtype=='int' else x.head(1))\n",
        "#zeroesInMyData2.head\n",
        "#zeroesInMyData1.plot(x=\"date\", y=\"steps1\", kind=\"bar\")"
      ],
      "metadata": {
        "colab": {
          "base_uri": "https://localhost:8080/"
        },
        "id": "SK2JIXalTf7t",
        "outputId": "7adb4769-486d-4044-de99-df5c8f1a353f"
      },
      "execution_count": 14,
      "outputs": [
        {
          "output_type": "execute_result",
          "data": {
            "text/plain": [
              "<bound method NDFrame.head of        steps        date  interval  steps1  interval1      date1\n",
              "0        0.0  2012-10-01         0       0          0 2012-10-01\n",
              "1        0.0  2012-10-01         5       0          5 2012-10-01\n",
              "2        0.0  2012-10-01        10       0         10 2012-10-01\n",
              "3        0.0  2012-10-01        15       0         15 2012-10-01\n",
              "4        0.0  2012-10-01        20       0         20 2012-10-01\n",
              "...      ...         ...       ...     ...        ...        ...\n",
              "17563    0.0  2012-11-30      2335       0       2335 2012-11-30\n",
              "17564    0.0  2012-11-30      2340       0       2340 2012-11-30\n",
              "17565    0.0  2012-11-30      2345       0       2345 2012-11-30\n",
              "17566    0.0  2012-11-30      2350       0       2350 2012-11-30\n",
              "17567    0.0  2012-11-30      2355       0       2355 2012-11-30\n",
              "\n",
              "[17568 rows x 6 columns]>"
            ]
          },
          "metadata": {},
          "execution_count": 14
        }
      ]
    },
    {
      "cell_type": "code",
      "source": [
        "zeroesInMyData2 = zeroesInMyData.groupby(['date1'],as_index=False).agg(lambda x : x.sum() if x.dtype=='int' else x.head(1))\n",
        "plt.bar(zeroesInMyData2.date1, zeroesInMyData2.steps1)\n",
        "plt.gca().xaxis.set_major_locator(dates.MonthLocator())\n",
        "plt.gca().xaxis.set_major_formatter(dates.DateFormatter(\"%b\\n%Y\"))\n",
        "plt.show()"
      ],
      "metadata": {
        "colab": {
          "base_uri": "https://localhost:8080/",
          "height": 277
        },
        "id": "Y55KiiHo5aDg",
        "outputId": "a715957c-0819-4b7b-e249-2a26311b9782"
      },
      "execution_count": 15,
      "outputs": [
        {
          "output_type": "display_data",
          "data": {
            "text/plain": [
              "<Figure size 432x288 with 1 Axes>"
            ],
            "image/png": "[encoded data removed]"
          },
          "metadata": {
            "needs_background": "light"
          }
        }
      ]
    },
    {
      "cell_type": "code",
      "source": [
        "zeroesInMyData2[\"steps1\"].mean()"
      ],
      "metadata": {
        "colab": {
          "base_uri": "https://localhost:8080/"
        },
        "id": "2mJUqxec5713",
        "outputId": "e699c34d-63f3-47a1-85f0-9fe0cfca7d71"
      },
      "execution_count": 16,
      "outputs": [
        {
          "output_type": "execute_result",
          "data": {
            "text/plain": [
              "9354.22950819672"
            ]
          },
          "metadata": {},
          "execution_count": 16
        }
      ]
    },
    {
      "cell_type": "code",
      "source": [
        "zeroesInMyData2[\"steps1\"].median()"
      ],
      "metadata": {
        "colab": {
          "base_uri": "https://localhost:8080/"
        },
        "id": "neCXGANA6AmC",
        "outputId": "0d6ce33e-de1b-4f51-ed89-ab92b15958d2"
      },
      "execution_count": 17,
      "outputs": [
        {
          "output_type": "execute_result",
          "data": {
            "text/plain": [
              "10395.0"
            ]
          },
          "metadata": {},
          "execution_count": 17
        }
      ]
    },
    {
      "cell_type": "markdown",
      "source": [
        "Method 2: change the NA value for the 5 minute interval to the mean of the 5 minute interval"
      ],
      "metadata": {
        "id": "95nffYdu6bbU"
      }
    },
    {
      "cell_type": "code",
      "source": [
        "meanIntervalForNAData = raw_total_data.copy()\n",
        "meanIntervalForNAData.head"
      ],
      "metadata": {
        "colab": {
          "base_uri": "https://localhost:8080/"
        },
        "id": "wSyAZfZh7r7t",
        "outputId": "fd715bdb-5c52-4cbc-b55b-8f0e88b69725"
      },
      "execution_count": 18,
      "outputs": [
        {
          "output_type": "execute_result",
          "data": {
            "text/plain": [
              "<bound method NDFrame.head of        steps        date  interval\n",
              "0        NaN  2012-10-01         0\n",
              "1        NaN  2012-10-01         5\n",
              "2        NaN  2012-10-01        10\n",
              "3        NaN  2012-10-01        15\n",
              "4        NaN  2012-10-01        20\n",
              "...      ...         ...       ...\n",
              "17563    NaN  2012-11-30      2335\n",
              "17564    NaN  2012-11-30      2340\n",
              "17565    NaN  2012-11-30      2345\n",
              "17566    NaN  2012-11-30      2350\n",
              "17567    NaN  2012-11-30      2355\n",
              "\n",
              "[17568 rows x 3 columns]>"
            ]
          },
          "metadata": {},
          "execution_count": 18
        }
      ]
    },
    {
      "cell_type": "code",
      "source": [
        "m = meanIntervalForNAData.mean(axis=1)\n",
        "for i, col in enumerate(meanIntervalForNAData):\n",
        "    # using i allows for duplicate columns\n",
        "    # inplace *may* not always work here, so IMO the next line is preferred\n",
        "    # df.iloc[:, i].fillna(m, inplace=True)\n",
        "    meanIntervalForNAData.iloc[:, i] = meanIntervalForNAData.iloc[:, i].fillna(meanIntervalForNAData.interval[i].mean())\n",
        "\n",
        "meanIntervalForNAData.head"
      ],
      "metadata": {
        "colab": {
          "base_uri": "https://localhost:8080/"
        },
        "id": "LEZ1kt--_mXz",
        "outputId": "7790d5c4-687d-4d40-91de-e503c8f980f9"
      },
      "execution_count": 19,
      "outputs": [
        {
          "output_type": "stream",
          "name": "stderr",
          "text": [
            "/usr/local/lib/python3.7/dist-packages/ipykernel_launcher.py:1: FutureWarning: Dropping of nuisance columns in DataFrame reductions (with 'numeric_only=None') is deprecated; in a future version this will raise TypeError.  Select only valid columns before calling the reduction.\n",
            "  \"\"\"Entry point for launching an IPython kernel.\n"
          ]
        },
        {
          "output_type": "execute_result",
          "data": {
            "text/plain": [
              "<bound method NDFrame.head of        steps        date  interval\n",
              "0        0.0  2012-10-01         0\n",
              "1        0.0  2012-10-01         5\n",
              "2        0.0  2012-10-01        10\n",
              "3        0.0  2012-10-01        15\n",
              "4        0.0  2012-10-01        20\n",
              "...      ...         ...       ...\n",
              "17563    0.0  2012-11-30      2335\n",
              "17564    0.0  2012-11-30      2340\n",
              "17565    0.0  2012-11-30      2345\n",
              "17566    0.0  2012-11-30      2350\n",
              "17567    0.0  2012-11-30      2355\n",
              "\n",
              "[17568 rows x 3 columns]>"
            ]
          },
          "metadata": {},
          "execution_count": 19
        }
      ]
    },
    {
      "cell_type": "code",
      "source": [
        "type(meanIntervalForNAData[\"interval\"][0])"
      ],
      "metadata": {
        "colab": {
          "base_uri": "https://localhost:8080/"
        },
        "id": "Ah-QnfuVAuLD",
        "outputId": "d5814ca5-ebcf-4103-a6e3-8d8e92e953ae"
      },
      "execution_count": 20,
      "outputs": [
        {
          "output_type": "execute_result",
          "data": {
            "text/plain": [
              "numpy.int64"
            ]
          },
          "metadata": {},
          "execution_count": 20
        }
      ]
    },
    {
      "cell_type": "code",
      "source": [
        "meanIntervalForNAData[\"steps1\"] = meanIntervalForNAData[\"steps\"].astype('int')\n",
        "#meanIntervalForNAData[\"interval1\"] = meanIntervalForNAData[\"interval\"].astype('int')\n",
        "meanIntervalForNAData[\"date1\"] = meanIntervalForNAData[\"date\"].astype('datetime64[ns]')\n",
        "meanIntervalForNAData2 = meanIntervalForNAData.groupby(['date1'],as_index=False).agg(lambda x : x.sum() if x.dtype=='int' else x.head(1))\n",
        "plt.bar(meanIntervalForNAData2.date1, meanIntervalForNAData2.steps1)\n",
        "plt.gca().xaxis.set_major_locator(dates.MonthLocator())\n",
        "plt.gca().xaxis.set_major_formatter(dates.DateFormatter(\"%b\\n%Y\"))\n",
        "plt.show()"
      ],
      "metadata": {
        "colab": {
          "base_uri": "https://localhost:8080/",
          "height": 277
        },
        "id": "l31CLygkBHGB",
        "outputId": "c0102618-285f-428a-ee96-aa8ba342271c"
      },
      "execution_count": 21,
      "outputs": [
        {
          "output_type": "display_data",
          "data": {
            "text/plain": [
              "<Figure size 432x288 with 1 Axes>"
            ],
            "image/png": "[encoded data removed]"
          },
          "metadata": {
            "needs_background": "light"
          }
        }
      ]
    },
    {
      "cell_type": "code",
      "source": [
        "meanIntervalForNAData2[\"steps1\"].mean()"
      ],
      "metadata": {
        "colab": {
          "base_uri": "https://localhost:8080/"
        },
        "id": "dWSly1skBnq3",
        "outputId": "f8fde428-b5d3-4766-f832-eee8ca9ddf1d"
      },
      "execution_count": 22,
      "outputs": [
        {
          "output_type": "execute_result",
          "data": {
            "text/plain": [
              "9354.22950819672"
            ]
          },
          "metadata": {},
          "execution_count": 22
        }
      ]
    },
    {
      "cell_type": "code",
      "source": [
        "meanIntervalForNAData2[\"steps1\"].median()"
      ],
      "metadata": {
        "colab": {
          "base_uri": "https://localhost:8080/"
        },
        "id": "QpOb_6aLFCzV",
        "outputId": "037d5631-339f-4e33-bc21-56a4d9f6ad3f"
      },
      "execution_count": 23,
      "outputs": [
        {
          "output_type": "execute_result",
          "data": {
            "text/plain": [
              "10395.0"
            ]
          },
          "metadata": {},
          "execution_count": 23
        }
      ]
    },
    {
      "cell_type": "code",
      "source": [
        "meanIntervalForNAData['day_of_week'] = meanIntervalForNAData['date1'].dt.day_name()\n",
        "meanIntervalForNAData.head"
      ],
      "metadata": {
        "colab": {
          "base_uri": "https://localhost:8080/"
        },
        "id": "4-v4nZqVHJn-",
        "outputId": "828c3244-3cfb-4d1f-c19c-fcb8cf73fa6a"
      },
      "execution_count": 24,
      "outputs": [
        {
          "output_type": "execute_result",
          "data": {
            "text/plain": [
              "<bound method NDFrame.head of        steps        date  interval  steps1      date1 day_of_week\n",
              "0        0.0  2012-10-01         0       0 2012-10-01      Monday\n",
              "1        0.0  2012-10-01         5       0 2012-10-01      Monday\n",
              "2        0.0  2012-10-01        10       0 2012-10-01      Monday\n",
              "3        0.0  2012-10-01        15       0 2012-10-01      Monday\n",
              "4        0.0  2012-10-01        20       0 2012-10-01      Monday\n",
              "...      ...         ...       ...     ...        ...         ...\n",
              "17563    0.0  2012-11-30      2335       0 2012-11-30      Friday\n",
              "17564    0.0  2012-11-30      2340       0 2012-11-30      Friday\n",
              "17565    0.0  2012-11-30      2345       0 2012-11-30      Friday\n",
              "17566    0.0  2012-11-30      2350       0 2012-11-30      Friday\n",
              "17567    0.0  2012-11-30      2355       0 2012-11-30      Friday\n",
              "\n",
              "[17568 rows x 6 columns]>"
            ]
          },
          "metadata": {},
          "execution_count": 24
        }
      ]
    },
    {
      "cell_type": "code",
      "source": [
        "type(meanIntervalForNAData[\"day_of_week\"][0])"
      ],
      "metadata": {
        "colab": {
          "base_uri": "https://localhost:8080/"
        },
        "id": "4cCyOg6uKYS_",
        "outputId": "c8dc3926-0cbd-4332-b4af-fe0c45c11e97"
      },
      "execution_count": 25,
      "outputs": [
        {
          "output_type": "execute_result",
          "data": {
            "text/plain": [
              "str"
            ]
          },
          "metadata": {},
          "execution_count": 25
        }
      ]
    },
    {
      "cell_type": "code",
      "source": [
        "weekend_meanIntervalForNAData1 = meanIntervalForNAData[meanIntervalForNAData[\"day_of_week\"].str.contains(\"Sunday|Saturday\")]\n",
        "weekend_meanIntervalForNAData1\n"
      ],
      "metadata": {
        "colab": {
          "base_uri": "https://localhost:8080/",
          "height": 424
        },
        "id": "FXiq_rUAIiT5",
        "outputId": "99c6e2c5-48c1-47d2-c5eb-f8bdf6b20b97"
      },
      "execution_count": 26,
      "outputs": [
        {
          "output_type": "execute_result",
          "data": {
            "text/plain": [
              "       steps        date  interval  steps1      date1 day_of_week\n",
              "1440     0.0  2012-10-06         0       0 2012-10-06    Saturday\n",
              "1441     0.0  2012-10-06         5       0 2012-10-06    Saturday\n",
              "1442     0.0  2012-10-06        10       0 2012-10-06    Saturday\n",
              "1443     0.0  2012-10-06        15       0 2012-10-06    Saturday\n",
              "1444     0.0  2012-10-06        20       0 2012-10-06    Saturday\n",
              "...      ...         ...       ...     ...        ...         ...\n",
              "16123  176.0  2012-11-25      2335     176 2012-11-25      Sunday\n",
              "16124   94.0  2012-11-25      2340      94 2012-11-25      Sunday\n",
              "16125   26.0  2012-11-25      2345      26 2012-11-25      Sunday\n",
              "16126    0.0  2012-11-25      2350       0 2012-11-25      Sunday\n",
              "16127    0.0  2012-11-25      2355       0 2012-11-25      Sunday\n",
              "\n",
              "[4608 rows x 6 columns]"
            ],
            "text/html": [
              "\n",
              "  <div id=\"df-11dec404-784b-4185-8e5c-3d6cf61d3589\">\n",
              "    <div class=\"colab-df-container\">\n",
              "      <div>\n",
              "<style scoped>\n",
              "    .dataframe tbody tr th:only-of-type {\n",
              "        vertical-align: middle;\n",
              "    }\n",
              "\n",
              "    .dataframe tbody tr th {\n",
              "        vertical-align: top;\n",
              "    }\n",
              "\n",
              "    .dataframe thead th {\n",
              "        text-align: right;\n",
              "    }\n",
              "</style>\n",
              "<table border=\"1\" class=\"dataframe\">\n",
              "  <thead>\n",
              "    <tr style=\"text-align: right;\">\n",
              "      <th></th>\n",
              "      <th>steps</th>\n",
              "      <th>date</th>\n",
              "      <th>interval</th>\n",
              "      <th>steps1</th>\n",
              "      <th>date1</th>\n",
              "      <th>day_of_week</th>\n",
              "    </tr>\n",
              "  </thead>\n",
              "  <tbody>\n",
              "    <tr>\n",
              "      <th>1440</th>\n",
              "      <td>0.0</td>\n",
              "      <td>2012-10-06</td>\n",
              "      <td>0</td>\n",
              "      <td>0</td>\n",
              "      <td>2012-10-06</td>\n",
              "      <td>Saturday</td>\n",
              "    </tr>\n",
              "    <tr>\n",
              "      <th>1441</th>\n",
              "      <td>0.0</td>\n",
              "      <td>2012-10-06</td>\n",
              "      <td>5</td>\n",
              "      <td>0</td>\n",
              "      <td>2012-10-06</td>\n",
              "      <td>Saturday</td>\n",
              "    </tr>\n",
              "    <tr>\n",
              "      <th>1442</th>\n",
              "      <td>0.0</td>\n",
              "      <td>2012-10-06</td>\n",
              "      <td>10</td>\n",
              "      <td>0</td>\n",
              "      <td>2012-10-06</td>\n",
              "      <td>Saturday</td>\n",
              "    </tr>\n",
              "    <tr>\n",
              "      <th>1443</th>\n",
              "      <td>0.0</td>\n",
              "      <td>2012-10-06</td>\n",
              "      <td>15</td>\n",
              "      <td>0</td>\n",
              "      <td>2012-10-06</td>\n",
              "      <td>Saturday</td>\n",
              "    </tr>\n",
              "    <tr>\n",
              "      <th>1444</th>\n",
              "      <td>0.0</td>\n",
              "      <td>2012-10-06</td>\n",
              "      <td>20</td>\n",
              "      <td>0</td>\n",
              "      <td>2012-10-06</td>\n",
              "      <td>Saturday</td>\n",
              "    </tr>\n",
              "    <tr>\n",
              "      <th>...</th>\n",
              "      <td>...</td>\n",
              "      <td>...</td>\n",
              "      <td>...</td>\n",
              "      <td>...</td>\n",
              "      <td>...</td>\n",
              "      <td>...</td>\n",
              "    </tr>\n",
              "    <tr>\n",
              "      <th>16123</th>\n",
              "      <td>176.0</td>\n",
              "      <td>2012-11-25</td>\n",
              "      <td>2335</td>\n",
              "      <td>176</td>\n",
              "      <td>2012-11-25</td>\n",
              "      <td>Sunday</td>\n",
              "    </tr>\n",
              "    <tr>\n",
              "      <th>16124</th>\n",
              "      <td>94.0</td>\n",
              "      <td>2012-11-25</td>\n",
              "      <td>2340</td>\n",
              "      <td>94</td>\n",
              "      <td>2012-11-25</td>\n",
              "      <td>Sunday</td>\n",
              "    </tr>\n",
              "    <tr>\n",
              "      <th>16125</th>\n",
              "      <td>26.0</td>\n",
              "      <td>2012-11-25</td>\n",
              "      <td>2345</td>\n",
              "      <td>26</td>\n",
              "      <td>2012-11-25</td>\n",
              "      <td>Sunday</td>\n",
              "    </tr>\n",
              "    <tr>\n",
              "      <th>16126</th>\n",
              "      <td>0.0</td>\n",
              "      <td>2012-11-25</td>\n",
              "      <td>2350</td>\n",
              "      <td>0</td>\n",
              "      <td>2012-11-25</td>\n",
              "      <td>Sunday</td>\n",
              "    </tr>\n",
              "    <tr>\n",
              "      <th>16127</th>\n",
              "      <td>0.0</td>\n",
              "      <td>2012-11-25</td>\n",
              "      <td>2355</td>\n",
              "      <td>0</td>\n",
              "      <td>2012-11-25</td>\n",
              "      <td>Sunday</td>\n",
              "    </tr>\n",
              "  </tbody>\n",
              "</table>\n",
              "<p>4608 rows × 6 columns</p>\n",
              "</div>\n",
              "      <button class=\"colab-df-convert\" onclick=\"convertToInteractive('df-11dec404-784b-4185-8e5c-3d6cf61d3589')\"\n",
              "              title=\"Convert this dataframe to an interactive table.\"\n",
              "              style=\"display:none;\">\n",
              "        \n",
              "  <svg xmlns=\"http://www.w3.org/2000/svg\" height=\"24px\"viewBox=\"0 0 24 24\"\n",
              "       width=\"24px\">\n",
              "    <path d=\"M0 0h24v24H0V0z\" fill=\"none\"/>\n",
              "    <path d=\"M18.56 5.44l.94 2.06.94-2.06 2.06-.94-2.06-.94-.94-2.06-.94 2.06-2.06.94zm-11 1L8.5 8.5l.94-2.06 2.06-.94-2.06-.94L8.5 2.5l-.94 2.06-2.06.94zm10 10l.94 2.06.94-2.06 2.06-.94-2.06-.94-.94-2.06-.94 2.06-2.06.94z\"/><path d=\"M17.41 7.96l-1.37-1.37c-.4-.4-.92-.59-1.43-.59-.52 0-1.04.2-1.43.59L10.3 9.45l-7.72 7.72c-.78.78-.78 2.05 0 2.83L4 21.41c.39.39.9.59 1.41.59.51 0 1.02-.2 1.41-.59l7.78-7.78 2.81-2.81c.8-.78.8-2.07 0-2.86zM5.41 20L4 18.59l7.72-7.72 1.47 1.35L5.41 20z\"/>\n",
              "  </svg>\n",
              "      </button>\n",
              "      \n",
              "  <style>\n",
              "    .colab-df-container {\n",
              "      display:flex;\n",
              "      flex-wrap:wrap;\n",
              "      gap: 12px;\n",
              "    }\n",
              "\n",
              "    .colab-df-convert {\n",
              "      background-color: #E8F0FE;\n",
              "      border: none;\n",
              "      border-radius: 50%;\n",
              "      cursor: pointer;\n",
              "      display: none;\n",
              "      fill: #1967D2;\n",
              "      height: 32px;\n",
              "      padding: 0 0 0 0;\n",
              "      width: 32px;\n",
              "    }\n",
              "\n",
              "    .colab-df-convert:hover {\n",
              "      background-color: #E2EBFA;\n",
              "      box-shadow: 0px 1px 2px rgba(60, 64, 67, 0.3), 0px 1px 3px 1px rgba(60, 64, 67, 0.15);\n",
              "      fill: #174EA6;\n",
              "    }\n",
              "\n",
              "    [theme=dark] .colab-df-convert {\n",
              "      background-color: #3B4455;\n",
              "      fill: #D2E3FC;\n",
              "    }\n",
              "\n",
              "    [theme=dark] .colab-df-convert:hover {\n",
              "      background-color: #434B5C;\n",
              "      box-shadow: 0px 1px 3px 1px rgba(0, 0, 0, 0.15);\n",
              "      filter: drop-shadow(0px 1px 2px rgba(0, 0, 0, 0.3));\n",
              "      fill: #FFFFFF;\n",
              "    }\n",
              "  </style>\n",
              "\n",
              "      <script>\n",
              "        const buttonEl =\n",
              "          document.querySelector('#df-11dec404-784b-4185-8e5c-3d6cf61d3589 button.colab-df-convert');\n",
              "        buttonEl.style.display =\n",
              "          google.colab.kernel.accessAllowed ? 'block' : 'none';\n",
              "\n",
              "        async function convertToInteractive(key) {\n",
              "          const element = document.querySelector('#df-11dec404-784b-4185-8e5c-3d6cf61d3589');\n",
              "          const dataTable =\n",
              "            await google.colab.kernel.invokeFunction('convertToInteractive',\n",
              "                                                     [key], {});\n",
              "          if (!dataTable) return;\n",
              "\n",
              "          const docLinkHtml = 'Like what you see? Visit the ' +\n",
              "            '<a target=\"_blank\" href=https://colab.research.google.com/notebooks/data_table.ipynb>data table notebook</a>'\n",
              "            + ' to learn more about interactive tables.';\n",
              "          element.innerHTML = '';\n",
              "          dataTable['output_type'] = 'display_data';\n",
              "          await google.colab.output.renderOutput(dataTable, element);\n",
              "          const docLink = document.createElement('div');\n",
              "          docLink.innerHTML = docLinkHtml;\n",
              "          element.appendChild(docLink);\n",
              "        }\n",
              "      </script>\n",
              "    </div>\n",
              "  </div>\n",
              "  "
            ]
          },
          "metadata": {},
          "execution_count": 26
        }
      ]
    },
    {
      "cell_type": "code",
      "source": [
        "weekend_meanIntervalForNAData2 = weekend_meanIntervalForNAData1.groupby(['interval'],as_index=False).agg(lambda x : x.mean() if x.dtype=='int' else x.head(1))\n",
        "weekend_meanIntervalForNAData2.plot(x=\"interval\", y=\"steps1\", kind=\"line\")"
      ],
      "metadata": {
        "colab": {
          "base_uri": "https://localhost:8080/",
          "height": 300
        },
        "id": "n0xWSr72P1Q7",
        "outputId": "51c281af-2049-4ba9-ac1f-7a8b93f7f2c3"
      },
      "execution_count": 27,
      "outputs": [
        {
          "output_type": "execute_result",
          "data": {
            "text/plain": [
              "<matplotlib.axes._subplots.AxesSubplot at 0x7f49ac9acad0>"
            ]
          },
          "metadata": {},
          "execution_count": 27
        },
        {
          "output_type": "display_data",
          "data": {
            "text/plain": [
              "<Figure size 432x288 with 1 Axes>"
            ],
            "image/png": "[encoded data removed]"
          },
          "metadata": {
            "needs_background": "light"
          }
        }
      ]
    },
    {
      "cell_type": "code",
      "source": [
        "weekday_meanIntervalForNAData1 = meanIntervalForNAData[meanIntervalForNAData[\"day_of_week\"].str.contains(\"Monday|Tuesday|Wednesday|Thursday|Friday\")]\n",
        "weekday_meanIntervalForNAData1"
      ],
      "metadata": {
        "colab": {
          "base_uri": "https://localhost:8080/",
          "height": 424
        },
        "id": "jtdtHg0nNTYq",
        "outputId": "dce6be12-7590-4211-ce63-0efdd120a50f"
      },
      "execution_count": 28,
      "outputs": [
        {
          "output_type": "execute_result",
          "data": {
            "text/plain": [
              "       steps        date  interval  steps1      date1 day_of_week\n",
              "0        0.0  2012-10-01         0       0 2012-10-01      Monday\n",
              "1        0.0  2012-10-01         5       0 2012-10-01      Monday\n",
              "2        0.0  2012-10-01        10       0 2012-10-01      Monday\n",
              "3        0.0  2012-10-01        15       0 2012-10-01      Monday\n",
              "4        0.0  2012-10-01        20       0 2012-10-01      Monday\n",
              "...      ...         ...       ...     ...        ...         ...\n",
              "17563    0.0  2012-11-30      2335       0 2012-11-30      Friday\n",
              "17564    0.0  2012-11-30      2340       0 2012-11-30      Friday\n",
              "17565    0.0  2012-11-30      2345       0 2012-11-30      Friday\n",
              "17566    0.0  2012-11-30      2350       0 2012-11-30      Friday\n",
              "17567    0.0  2012-11-30      2355       0 2012-11-30      Friday\n",
              "\n",
              "[12960 rows x 6 columns]"
            ],
            "text/html": [
              "\n",
              "  <div id=\"df-8c1e2cf3-2b87-4ef2-9630-a9c8c01dfe08\">\n",
              "    <div class=\"colab-df-container\">\n",
              "      <div>\n",
              "<style scoped>\n",
              "    .dataframe tbody tr th:only-of-type {\n",
              "        vertical-align: middle;\n",
              "    }\n",
              "\n",
              "    .dataframe tbody tr th {\n",
              "        vertical-align: top;\n",
              "    }\n",
              "\n",
              "    .dataframe thead th {\n",
              "        text-align: right;\n",
              "    }\n",
              "</style>\n",
              "<table border=\"1\" class=\"dataframe\">\n",
              "  <thead>\n",
              "    <tr style=\"text-align: right;\">\n",
              "      <th></th>\n",
              "      <th>steps</th>\n",
              "      <th>date</th>\n",
              "      <th>interval</th>\n",
              "      <th>steps1</th>\n",
              "      <th>date1</th>\n",
              "      <th>day_of_week</th>\n",
              "    </tr>\n",
              "  </thead>\n",
              "  <tbody>\n",
              "    <tr>\n",
              "      <th>0</th>\n",
              "      <td>0.0</td>\n",
              "      <td>2012-10-01</td>\n",
              "      <td>0</td>\n",
              "      <td>0</td>\n",
              "      <td>2012-10-01</td>\n",
              "      <td>Monday</td>\n",
              "    </tr>\n",
              "    <tr>\n",
              "      <th>1</th>\n",
              "      <td>0.0</td>\n",
              "      <td>2012-10-01</td>\n",
              "      <td>5</td>\n",
              "      <td>0</td>\n",
              "      <td>2012-10-01</td>\n",
              "      <td>Monday</td>\n",
              "    </tr>\n",
              "    <tr>\n",
              "      <th>2</th>\n",
              "      <td>0.0</td>\n",
              "      <td>2012-10-01</td>\n",
              "      <td>10</td>\n",
              "      <td>0</td>\n",
              "      <td>2012-10-01</td>\n",
              "      <td>Monday</td>\n",
              "    </tr>\n",
              "    <tr>\n",
              "      <th>3</th>\n",
              "      <td>0.0</td>\n",
              "      <td>2012-10-01</td>\n",
              "      <td>15</td>\n",
              "      <td>0</td>\n",
              "      <td>2012-10-01</td>\n",
              "      <td>Monday</td>\n",
              "    </tr>\n",
              "    <tr>\n",
              "      <th>4</th>\n",
              "      <td>0.0</td>\n",
              "      <td>2012-10-01</td>\n",
              "      <td>20</td>\n",
              "      <td>0</td>\n",
              "      <td>2012-10-01</td>\n",
              "      <td>Monday</td>\n",
              "    </tr>\n",
              "    <tr>\n",
              "      <th>...</th>\n",
              "      <td>...</td>\n",
              "      <td>...</td>\n",
              "      <td>...</td>\n",
              "      <td>...</td>\n",
              "      <td>...</td>\n",
              "      <td>...</td>\n",
              "    </tr>\n",
              "    <tr>\n",
              "      <th>17563</th>\n",
              "      <td>0.0</td>\n",
              "      <td>2012-11-30</td>\n",
              "      <td>2335</td>\n",
              "      <td>0</td>\n",
              "      <td>2012-11-30</td>\n",
              "      <td>Friday</td>\n",
              "    </tr>\n",
              "    <tr>\n",
              "      <th>17564</th>\n",
              "      <td>0.0</td>\n",
              "      <td>2012-11-30</td>\n",
              "      <td>2340</td>\n",
              "      <td>0</td>\n",
              "      <td>2012-11-30</td>\n",
              "      <td>Friday</td>\n",
              "    </tr>\n",
              "    <tr>\n",
              "      <th>17565</th>\n",
              "      <td>0.0</td>\n",
              "      <td>2012-11-30</td>\n",
              "      <td>2345</td>\n",
              "      <td>0</td>\n",
              "      <td>2012-11-30</td>\n",
              "      <td>Friday</td>\n",
              "    </tr>\n",
              "    <tr>\n",
              "      <th>17566</th>\n",
              "      <td>0.0</td>\n",
              "      <td>2012-11-30</td>\n",
              "      <td>2350</td>\n",
              "      <td>0</td>\n",
              "      <td>2012-11-30</td>\n",
              "      <td>Friday</td>\n",
              "    </tr>\n",
              "    <tr>\n",
              "      <th>17567</th>\n",
              "      <td>0.0</td>\n",
              "      <td>2012-11-30</td>\n",
              "      <td>2355</td>\n",
              "      <td>0</td>\n",
              "      <td>2012-11-30</td>\n",
              "      <td>Friday</td>\n",
              "    </tr>\n",
              "  </tbody>\n",
              "</table>\n",
              "<p>12960 rows × 6 columns</p>\n",
              "</div>\n",
              "      <button class=\"colab-df-convert\" onclick=\"convertToInteractive('df-8c1e2cf3-2b87-4ef2-9630-a9c8c01dfe08')\"\n",
              "              title=\"Convert this dataframe to an interactive table.\"\n",
              "              style=\"display:none;\">\n",
              "        \n",
              "  <svg xmlns=\"http://www.w3.org/2000/svg\" height=\"24px\"viewBox=\"0 0 24 24\"\n",
              "       width=\"24px\">\n",
              "    <path d=\"M0 0h24v24H0V0z\" fill=\"none\"/>\n",
              "    <path d=\"M18.56 5.44l.94 2.06.94-2.06 2.06-.94-2.06-.94-.94-2.06-.94 2.06-2.06.94zm-11 1L8.5 8.5l.94-2.06 2.06-.94-2.06-.94L8.5 2.5l-.94 2.06-2.06.94zm10 10l.94 2.06.94-2.06 2.06-.94-2.06-.94-.94-2.06-.94 2.06-2.06.94z\"/><path d=\"M17.41 7.96l-1.37-1.37c-.4-.4-.92-.59-1.43-.59-.52 0-1.04.2-1.43.59L10.3 9.45l-7.72 7.72c-.78.78-.78 2.05 0 2.83L4 21.41c.39.39.9.59 1.41.59.51 0 1.02-.2 1.41-.59l7.78-7.78 2.81-2.81c.8-.78.8-2.07 0-2.86zM5.41 20L4 18.59l7.72-7.72 1.47 1.35L5.41 20z\"/>\n",
              "  </svg>\n",
              "      </button>\n",
              "      \n",
              "  <style>\n",
              "    .colab-df-container {\n",
              "      display:flex;\n",
              "      flex-wrap:wrap;\n",
              "      gap: 12px;\n",
              "    }\n",
              "\n",
              "    .colab-df-convert {\n",
              "      background-color: #E8F0FE;\n",
              "      border: none;\n",
              "      border-radius: 50%;\n",
              "      cursor: pointer;\n",
              "      display: none;\n",
              "      fill: #1967D2;\n",
              "      height: 32px;\n",
              "      padding: 0 0 0 0;\n",
              "      width: 32px;\n",
              "    }\n",
              "\n",
              "    .colab-df-convert:hover {\n",
              "      background-color: #E2EBFA;\n",
              "      box-shadow: 0px 1px 2px rgba(60, 64, 67, 0.3), 0px 1px 3px 1px rgba(60, 64, 67, 0.15);\n",
              "      fill: #174EA6;\n",
              "    }\n",
              "\n",
              "    [theme=dark] .colab-df-convert {\n",
              "      background-color: #3B4455;\n",
              "      fill: #D2E3FC;\n",
              "    }\n",
              "\n",
              "    [theme=dark] .colab-df-convert:hover {\n",
              "      background-color: #434B5C;\n",
              "      box-shadow: 0px 1px 3px 1px rgba(0, 0, 0, 0.15);\n",
              "      filter: drop-shadow(0px 1px 2px rgba(0, 0, 0, 0.3));\n",
              "      fill: #FFFFFF;\n",
              "    }\n",
              "  </style>\n",
              "\n",
              "      <script>\n",
              "        const buttonEl =\n",
              "          document.querySelector('#df-8c1e2cf3-2b87-4ef2-9630-a9c8c01dfe08 button.colab-df-convert');\n",
              "        buttonEl.style.display =\n",
              "          google.colab.kernel.accessAllowed ? 'block' : 'none';\n",
              "\n",
              "        async function convertToInteractive(key) {\n",
              "          const element = document.querySelector('#df-8c1e2cf3-2b87-4ef2-9630-a9c8c01dfe08');\n",
              "          const dataTable =\n",
              "            await google.colab.kernel.invokeFunction('convertToInteractive',\n",
              "                                                     [key], {});\n",
              "          if (!dataTable) return;\n",
              "\n",
              "          const docLinkHtml = 'Like what you see? Visit the ' +\n",
              "            '<a target=\"_blank\" href=https://colab.research.google.com/notebooks/data_table.ipynb>data table notebook</a>'\n",
              "            + ' to learn more about interactive tables.';\n",
              "          element.innerHTML = '';\n",
              "          dataTable['output_type'] = 'display_data';\n",
              "          await google.colab.output.renderOutput(dataTable, element);\n",
              "          const docLink = document.createElement('div');\n",
              "          docLink.innerHTML = docLinkHtml;\n",
              "          element.appendChild(docLink);\n",
              "        }\n",
              "      </script>\n",
              "    </div>\n",
              "  </div>\n",
              "  "
            ]
          },
          "metadata": {},
          "execution_count": 28
        }
      ]
    },
    {
      "cell_type": "code",
      "source": [
        "weekday_meanIntervalForNAData2 = weekday_meanIntervalForNAData1.groupby(['interval'],as_index=False).agg(lambda x : x.mean() if x.dtype=='int' else x.head(1))\n",
        "weekday_meanIntervalForNAData2.plot(x=\"interval\", y=\"steps1\", kind=\"line\")"
      ],
      "metadata": {
        "colab": {
          "base_uri": "https://localhost:8080/",
          "height": 297
        },
        "id": "LZGxwgxvUoT9",
        "outputId": "080d9c09-4504-409a-86c8-48e2fbae4bea"
      },
      "execution_count": 29,
      "outputs": [
        {
          "output_type": "execute_result",
          "data": {
            "text/plain": [
              "<matplotlib.axes._subplots.AxesSubplot at 0x7f49ac99f590>"
            ]
          },
          "metadata": {},
          "execution_count": 29
        },
        {
          "output_type": "display_data",
          "data": {
            "text/plain": [
              "<Figure size 432x288 with 1 Axes>"
            ],
            "image/png": "[encoded data removed]"
          },
          "metadata": {
            "needs_background": "light"
          }
        }
      ]
    },
    {
      "cell_type": "markdown",
      "source": [
        "References\n",
        "* [Find maximum value of a column and return the corresponding row values using Pandas](https://stackoverflow.com/questions/15741759/find-maximum-value-of-a-column-and-return-the-corresponding-row-values-using-pan)\n",
        "* [Histogram ggplot : Show count label for each bin for each category](https://stackoverflow.com/questions/30057765/histogram-ggplot-show-count-label-for-each-bin-for-each-category)\n",
        "* [Count all NaNs in a pandas DataFrame](https://stackoverflow.com/questions/56261130/count-all-nans-in-a-pandas-dataframe)\n",
        "* [Tick labels overlap in pandas bar chart](https://stackoverflow.com/questions/50675920/tick-labels-overlap-in-pandas-bar-chart)\n",
        "* [How to convert string to datetime format in pandas python?](https://stackoverflow.com/questions/32204631/how-to-convert-string-to-datetime-format-in-pandas-python)\n",
        "* [Pandas Dataframe: Replacing NaN with row average](https://stackoverflow.com/questions/33058590/pandas-dataframe-replacing-nan-with-row-average)\n",
        "* [Create a day-of-week column in a Pandas dataframe using Python](https://stackoverflow.com/questions/30222533/create-a-day-of-week-column-in-a-pandas-dataframe-using-python)"
      ],
      "metadata": {
        "id": "ue32wwpBodyl"
      }
    }
  ]
}